{
 "cells": [
  {
   "cell_type": "code",
   "execution_count": 1,
   "metadata": {},
   "outputs": [],
   "source": [
    "import sqlite3\n",
    "import random\n",
    "\n",
    "\n",
    "\n",
    "conn_billing = sqlite3.connect('billing.db')"
   ]
  },
  {
   "cell_type": "code",
   "execution_count": 2,
   "metadata": {},
   "outputs": [
    {
     "ename": "OperationalError",
     "evalue": "database is locked",
     "output_type": "error",
     "traceback": [
      "\u001b[0;31m---------------------------------------------------------------------------\u001b[0m",
      "\u001b[0;31mOperationalError\u001b[0m                          Traceback (most recent call last)",
      "Cell \u001b[0;32mIn[2], line 7\u001b[0m\n\u001b[1;32m      5\u001b[0m \u001b[38;5;28;01mfor\u001b[39;00m i \u001b[38;5;129;01min\u001b[39;00m \u001b[38;5;28mrange\u001b[39m(\u001b[38;5;241m100\u001b[39m):\n\u001b[1;32m      6\u001b[0m     phone_number \u001b[38;5;241m=\u001b[39m \u001b[38;5;28mint\u001b[39m(\u001b[38;5;124m'\u001b[39m\u001b[38;5;124m'\u001b[39m\u001b[38;5;241m.\u001b[39mjoin(random\u001b[38;5;241m.\u001b[39mchoices(\u001b[38;5;124m'\u001b[39m\u001b[38;5;124m123456789\u001b[39m\u001b[38;5;124m'\u001b[39m, k\u001b[38;5;241m=\u001b[39m\u001b[38;5;241m10\u001b[39m)))\n\u001b[0;32m----> 7\u001b[0m     \u001b[43mconn_billing\u001b[49m\u001b[38;5;241;43m.\u001b[39;49m\u001b[43mexecute\u001b[49m\u001b[43m(\u001b[49m\u001b[38;5;124;43mf\u001b[39;49m\u001b[38;5;124;43m'\u001b[39;49m\u001b[38;5;124;43mUPDATE customers SET phone_number = ? WHERE id = ?\u001b[39;49m\u001b[38;5;124;43m'\u001b[39;49m\u001b[43m,\u001b[49m\u001b[43m \u001b[49m\u001b[43m(\u001b[49m\u001b[43mphone_number\u001b[49m\u001b[43m,\u001b[49m\u001b[43m \u001b[49m\u001b[43mi\u001b[49m\u001b[43m)\u001b[49m\u001b[43m)\u001b[49m\n\u001b[1;32m      8\u001b[0m     conn_billing\u001b[38;5;241m.\u001b[39mcommit()\n",
      "\u001b[0;31mOperationalError\u001b[0m: database is locked"
     ]
    }
   ],
   "source": [
    "cursor = conn_billing.cursor()\n",
    "\n",
    "import time\n",
    "\n",
    "for i in range(100):\n",
    "    phone_number = int(''.join(random.choices('123456789', k=10)))\n",
    "    conn_billing.execute(f'UPDATE customers SET phone_number = ? WHERE id = ?', (phone_number, i))\n",
    "    conn_billing.commit()\n"
   ]
  },
  {
   "cell_type": "code",
   "execution_count": 3,
   "metadata": {},
   "outputs": [
    {
     "name": "stdout",
     "output_type": "stream",
     "text": [
      "(1, 'Customer 1', 'vnupcphdzh@outlook.com', '583 vuynxhuwnj St, koqxqupdst, gddsd 94046', 1234567890)\n",
      "(2, 'Customer 2', 'tzflddiyct@outlook.com', '367 xqhahfayey St, zwglafozci, xwvgn 33493', None)\n",
      "(3, 'Customer 3', 'njqrxlstlc@gmail.com', '129 jygiqjhaor St, ywkaldgtmj, kzrzs 17580', None)\n",
      "(4, 'Customer 4', 'indrekhbdo@outlook.com', '16 uyfqayyhqg St, pvfcbufmvx, pxksi 90822', '')\n",
      "(5, 'Customer 5', 'uukjbltbyx@hotmail.com', '754 ftzgknaays St, sxmkhrxarv, uvmnt 65456', None)\n",
      "(6, 'Customer 6', 'pvmfnzechm@hotmail.com', '450 rvpozufadd St, fpdwcptnkq, klxqq 51595', None)\n",
      "(7, 'Customer 7', 'cawuwobtym@hotmail.com', '658 uleqvrjdnj St, yegytdjkuv, phpme 71589', None)\n",
      "(8, 'Customer 8', 'lvkltosigt@yahoo.com', '627 flszcawvap St, hpapsnazis, pnkll 79336', None)\n",
      "(9, 'Customer 9', 'ufcbtmnasc@gmail.com', '219 opzykszkjz St, rjluvqvqoa, gymlk 21681', None)\n",
      "(10, 'Customer 10', 'emxzwfuguc@outlook.com', '357 aequeawwqg St, cbziifrlhu, tuqzq 52793', None)\n",
      "(11, 'Customer 11', 'pfuyfcsxfr@gmail.com', '608 flfbfchdob St, jydvqqtdaa, kczif 89859', None)\n",
      "(12, 'Customer 12', 'dmgngnrxgr@yahoo.com', '409 hlhivrjiln St, knltjnwbmg, jjsor 18884', None)\n",
      "(13, 'Customer 13', 'dtvgywvtcr@yahoo.com', '506 dssjaxbwcv St, mnlowzwyzf, nbgjf 32744', None)\n",
      "(14, 'Customer 14', 'hpshwklkrq@hotmail.com', '936 ysgpzgalgc St, plqclrgfqe, txjhp 90840', None)\n",
      "(15, 'Customer 15', 'hxakpycfqq@outlook.com', '389 oflgbqutev St, zecmwpbbgv, kymiw 87967', None)\n",
      "(16, 'Customer 16', 'qaupuybtqx@gmail.com', '405 yzxvurzoni St, tohbrxaksh, xqtdc 66432', None)\n",
      "(17, 'Customer 17', 'bjpbpbdbde@gmail.com', '54 zavlwmizmw St, oedwhbsudi, dnvto 35575', None)\n",
      "(18, 'Customer 18', 'pzcabasbcd@yahoo.com', '275 prnybdcqda St, abwssyrqbq, fcifq 89558', None)\n",
      "(19, 'Customer 19', 'nzjaveuldi@gmail.com', '983 gbxhbtsqjw St, xoyvkctuqb, pedcq 41692', None)\n",
      "(20, 'Customer 20', 'miccxcubga@gmail.com', '776 lmlraludac St, tqedcdncle, kqmso 55589', None)\n",
      "(21, 'Customer 21', 'alnobnwzfk@hotmail.com', '247 clbkpmdvfo St, txmqxizuzm, kmown 40258', None)\n",
      "(22, 'Customer 22', 'nueacjgqti@outlook.com', '204 zrhtdaufay St, jibmouwdrx, miitm 28432', None)\n",
      "(23, 'Customer 23', 'ihnrimestf@gmail.com', '342 wrxpzndsbd St, wqwobkwbvj, bfzee 92122', None)\n",
      "(24, 'Customer 24', 'xahyhnazck@gmail.com', '903 tmhqamxjqk St, yrlkdltysp, xpdxj 88612', None)\n",
      "(25, 'Customer 25', 'fteepmbden@outlook.com', '967 pjzzssrhpq St, lznfkstpsf, dcgag 14945', None)\n",
      "(26, 'Customer 26', 'asmutqebte@yahoo.com', '929 ktrpsflbzi St, woujgxcayu, hbyvj 57054', None)\n",
      "(27, 'Customer 27', 'qkwskppsnb@yahoo.com', '403 hcqaxvymzj St, qjryofsqfb, aovel 76643', None)\n",
      "(28, 'Customer 28', 'izmbjowvps@outlook.com', '164 ybscnmfyan St, ghqrlqqmwz, daugb 90112', None)\n",
      "(29, 'Customer 29', 'mzqiudfxhk@outlook.com', '312 zoyirqsvln St, whksekgpvt, rfmjq 13536', None)\n",
      "(30, 'Customer 30', 'prskptahif@hotmail.com', '677 ahxzhyuoye St, iwxjyzonkq, lsekp 82415', None)\n",
      "(31, 'Customer 31', 'buslpdsaxs@outlook.com', '85 nijmnkzeck St, tcnunytlrm, glhwa 32034', None)\n",
      "(32, 'Customer 32', 'fmkmuywegb@outlook.com', '748 ifndxtwtfn St, ojfitgjqck, kzbeb 19211', None)\n",
      "(33, 'Customer 33', 'oudwhuowds@outlook.com', '624 oeobwwavpv St, gquwsnjjwr, gxbhq 78862', None)\n",
      "(34, 'Customer 34', 'bcthixdgut@yahoo.com', '792 wcnjkerhyk St, xgqozvmvug, zgvhj 62705', None)\n",
      "(35, 'Customer 35', 'hiurbtbcuq@yahoo.com', '401 yyavlkdbcz St, fqqscknppz, mqujv 85007', None)\n",
      "(36, 'Customer 36', 'khruxptkbx@gmail.com', '658 ljwlgzuzkl St, jmgnxcywja, osppb 44288', None)\n",
      "(37, 'Customer 37', 'ftcgntvuvc@yahoo.com', '92 xsejoxcksq St, ifbmvgjurr, owyuk 38093', None)\n",
      "(38, 'Customer 38', 'tsnbabcznt@outlook.com', '112 dbetsimqwo St, zzpsfxherq, eaifq 70702', None)\n",
      "(39, 'Customer 39', 'axjluxsngo@yahoo.com', '151 qahwpavmqa St, alnivosagr, oboec 17997', None)\n",
      "(40, 'Customer 40', 'pasvzmimrh@outlook.com', '198 arumnnfsvy St, noaamesfco, pbcgj 29167', None)\n",
      "(41, 'Customer 41', 'pukitifuci@yahoo.com', '132 xobwdvhhgx St, ixgeirkgen, tgbvc 70820', None)\n",
      "(42, 'Customer 42', 'apqijieqjy@gmail.com', '144 ertdpvyryt St, czxcepejlc, ehshm 84555', None)\n",
      "(43, 'Customer 43', 'kqjvdxqwsf@hotmail.com', '260 mxkblageim St, dgrffovflt, msftm 38132', None)\n",
      "(44, 'Customer 44', 'cehmkmvocn@outlook.com', '749 secqnzcxro St, zazqbvvyhb, jthmj 34810', None)\n",
      "(45, 'Customer 45', 'perycqnjan@hotmail.com', '142 cseqxaxldt St, oygglppald, knick 29332', None)\n",
      "(46, 'Customer 46', 'lvbpvhbkks@outlook.com', '322 vtxjbtsqli St, zecaznaxvj, bumkc 43042', None)\n",
      "(47, 'Customer 47', 'vlrqqkxtnv@yahoo.com', '809 fqiikpsxjt St, wscbzdyson, ntgpy 12861', None)\n",
      "(48, 'Customer 48', 'isskmjmjgb@hotmail.com', '642 fuwidaijie St, nkvafqfcqx, ybbsz 56553', None)\n",
      "(49, 'Customer 49', 'cjichxkywf@yahoo.com', '979 ntgielgoem St, ucofltmpsb, cakrl 98535', None)\n",
      "(50, 'Customer 50', 'gtkdbmiaqt@outlook.com', '848 zxwdfrrnwu St, jjnwqdimpq, nduwd 28588', None)\n",
      "(51, 'Customer 51', 'toedlwmzrt@gmail.com', '119 hwdzoxcsrr St, tumniasdpd, mmhjv 45425', None)\n",
      "(52, 'Customer 52', 'kopfohtfkb@hotmail.com', '745 fxxyffokks St, ycdpwwioek, oxfee 72013', None)\n",
      "(53, 'Customer 53', 'lwvgtpitxv@yahoo.com', '933 qnryhmvrjd St, qzbyycpkya, ygkfk 66672', None)\n",
      "(54, 'Customer 54', 'ncitwxhvac@hotmail.com', '109 zydnkxbvcq St, qbuujjiymm, sxphf 61205', None)\n",
      "(55, 'Customer 55', 'lgbhmerpbt@gmail.com', '632 ivuguabtyn St, yrpnoigqbw, mzfpk 71032', None)\n",
      "(56, 'Customer 56', 'jbuykrytdn@gmail.com', '87 jbdmcplipz St, nzaheidjhl, qdnsn 63205', None)\n",
      "(57, 'Customer 57', 'jzbwnyghdd@yahoo.com', '663 chavrofxaz St, ptcmtkovjx, jhhhp 34124', None)\n",
      "(58, 'Customer 58', 'nqsrkawsiz@yahoo.com', '981 umjrshqhjg St, fysvjdxpyr, rkida 25037', None)\n",
      "(59, 'Customer 59', 'mmsmerxaxi@hotmail.com', '244 ichnqixasw St, migptuxfxb, lqvtr 44347', None)\n",
      "(60, 'Customer 60', 'fnukegsead@outlook.com', '959 mnblqxcdbr St, reyospdhid, drxgy 54888', None)\n",
      "(61, 'Customer 61', 'gctvocdqhl@gmail.com', '348 rmjhfwxkkq St, hbjvngdnve, smndt 15204', None)\n",
      "(62, 'Customer 62', 'suvevdlmra@yahoo.com', '506 hpavpztnhc St, zknlowbesk, kckxs 88785', None)\n",
      "(63, 'Customer 63', 'vjbhxigtsn@gmail.com', '418 bkghmxstqg St, yeiquzboew, rfgau 74645', None)\n",
      "(64, 'Customer 64', 'wmdpbaopnm@yahoo.com', '651 zbjqaljnrw St, sexrxbjmhs, ebyoe 41160', None)\n",
      "(65, 'Customer 65', 'ycavovukbj@yahoo.com', '840 pbzzvcdkrw St, bsetstfauq, yaiyw 54824', None)\n",
      "(66, 'Customer 66', 'fwtdawohnt@hotmail.com', '783 dkjwyjyyxt St, bnpyrxfzrk, njfpy 30543', None)\n",
      "(67, 'Customer 67', 'qctuqtchgd@hotmail.com', '260 yqafgoxisv St, ykuuctlkby, uedju 79734', None)\n",
      "(68, 'Customer 68', 'mbuvbvdmen@outlook.com', '511 lqpysgekez St, grtxiixhfw, ykkqc 82123', None)\n",
      "(69, 'Customer 69', 'wcldipezws@gmail.com', '285 ebwtrnzhhf St, hybihalffv, ztgjx 75399', None)\n",
      "(70, 'Customer 70', 'zocaxwvzev@yahoo.com', '554 oohaqkumsc St, ercnnhgdio, ejnmu 88808', None)\n",
      "(71, 'Customer 71', 'vyjhpepnpo@gmail.com', '250 tviaivjyyl St, esratzuzqo, yhpyl 35667', None)\n",
      "(72, 'Customer 72', 'umzuqwcycb@gmail.com', '122 sucshcvtsh St, gdxjdyrtfu, kttmb 59998', None)\n",
      "(73, 'Customer 73', 'rhjsxumpvi@gmail.com', '309 wmyaqbnqsi St, bisntoojzm, yeace 60164', None)\n",
      "(74, 'Customer 74', 'jgqrzcthxx@hotmail.com', '450 lcrdtxgbui St, gdoflvrwlo, fkobg 67225', None)\n",
      "(75, 'Customer 75', 'rrpqdebxgr@outlook.com', '351 dnnnitczxw St, lprapxxgfk, jpemz 74455', None)\n",
      "(76, 'Customer 76', 'ppwvxxlkev@gmail.com', '339 hkvvziksgc St, stzetusrli, xtztu 16357', None)\n",
      "(77, 'Customer 77', 'qzjvqznrjt@yahoo.com', '282 bbbohpwiok St, ixnyhzsqzs, nrzwq 68522', None)\n",
      "(78, 'Customer 78', 'mqlbazutsb@gmail.com', '44 yltepmnxkg St, ojthkhsrkr, kwaru 61501', None)\n",
      "(79, 'Customer 79', 'kckdvoxkaw@yahoo.com', '449 eqaxojrvcb St, akodvmbupe, hbcpc 51631', None)\n",
      "(80, 'Customer 80', 'mwvgalzrec@hotmail.com', '46 efdvvutuio St, vdtevxhxrb, qugug 51319', None)\n",
      "(81, 'Customer 81', 'lkadeunqbu@yahoo.com', '259 vxkrlkoqvh St, pdzfxeqhkl, rsxcm 80643', None)\n",
      "(82, 'Customer 82', 'swrwgijolf@outlook.com', '4 onlebsctnj St, wemtjjahiw, mxirk 86248', None)\n",
      "(83, 'Customer 83', 'klgpaowsjo@hotmail.com', '434 ipifxqghmp St, hwubcaueel, escsg 25228', None)\n",
      "(84, 'Customer 84', 'dumemouygi@outlook.com', '33 bmoqaseprb St, vwaidxtrrr, tzgwr 96574', None)\n",
      "(85, 'Customer 85', 'rnznzdrcia@outlook.com', '48 nuzgcyshbf St, gulyjiycmf, znvqt 66403', None)\n",
      "(86, 'Customer 86', 'swkypdolkp@hotmail.com', '584 jrhhbiajau St, eilojccnft, riwno 92820', None)\n",
      "(87, 'Customer 87', 'gailmxltii@outlook.com', '714 ubaailkekz St, tgcijpunor, ivjlm 92604', None)\n",
      "(88, 'Customer 88', 'vszsnoqdwo@hotmail.com', '629 edmnhjmykx St, efdjoqfool, xjmkj 71932', None)\n",
      "(89, 'Customer 89', 'qbgvjtvxyq@hotmail.com', '836 qljtntcujm St, lxkejmgfqe, xurid 35301', None)\n",
      "(90, 'Customer 90', 'uojnwnvtgj@gmail.com', '153 zzhrnwizfx St, doqlqsetoc, ocasy 53737', None)\n",
      "(91, 'Customer 91', 'crnafzgbog@outlook.com', '517 ocisaavnux St, dareytmxnr, mfyga 39933', None)\n",
      "(92, 'Customer 92', 'wrtlggjadd@hotmail.com', '408 otkureyqju St, hunznpupno, vxqyf 56740', None)\n",
      "(93, 'Customer 93', 'lhriwnmmbq@gmail.com', '708 ihtgmcuozq St, advueczrmg, hmdgs 69881', None)\n",
      "(94, 'Customer 94', 'hifipcpslk@yahoo.com', '431 wywzcfjbxo St, sexgzqypol, jwfej 51725', None)\n",
      "(95, 'Customer 95', 'apqlngcami@gmail.com', '409 jjprckkpnl St, ucmhspaxtd, ukoor 61131', None)\n",
      "(96, 'Customer 96', 'witfziicpm@gmail.com', '124 oprdaemgdw St, rkhdwfsnxn, eaiwq 99299', None)\n",
      "(97, 'Customer 97', 'ilusalhciy@hotmail.com', '892 cdlqnltmvz St, ajkovwxkmt, uobkr 36592', None)\n",
      "(98, 'Customer 98', 'vszaykxqxf@yahoo.com', '193 kdtwotizcj St, dlkhndazzw, gsujr 82990', None)\n",
      "(99, 'Customer 99', 'qtqblldxzd@gmail.com', '49 sahbtrgsuu St, shjpveccgy, odytw 81884', None)\n",
      "(100, 'Customer 100', 'zkkhfvvxts@hotmail.com', '733 jbdqebuhzb St, zfflgzxbtt, wtobq 89082', None)\n"
     ]
    }
   ],
   "source": [
    "for i in cursor.execute('SELECT * FROM customers'):\n",
    "    print(i)"
   ]
  },
  {
   "cell_type": "code",
   "execution_count": 62,
   "metadata": {},
   "outputs": [],
   "source": [
    "conn_billing.close()"
   ]
  }
 ],
 "metadata": {
  "kernelspec": {
   "display_name": "Python 3",
   "language": "python",
   "name": "python3"
  },
  "language_info": {
   "codemirror_mode": {
    "name": "ipython",
    "version": 3
   },
   "file_extension": ".py",
   "mimetype": "text/x-python",
   "name": "python",
   "nbconvert_exporter": "python",
   "pygments_lexer": "ipython3",
   "version": "3.11.7"
  }
 },
 "nbformat": 4,
 "nbformat_minor": 2
}
