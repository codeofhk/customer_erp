{
 "cells": [
  {
   "cell_type": "code",
   "execution_count": 60,
   "metadata": {},
   "outputs": [],
   "source": [
    "import sqlite3\n",
    "import random\n",
    "\n",
    "\n",
    "\n",
    "conn_billing = sqlite3.connect('billing.db')"
   ]
  },
  {
   "cell_type": "code",
   "execution_count": 19,
   "metadata": {},
   "outputs": [],
   "source": [
    "billing_items = []\n",
    "i=1000\n",
    "billing_id = 2\n",
    "while i>0 :\n",
    "    j=0\n",
    "    rvalue = random.randint(0, 15)\n",
    "    billing_id += 1\n",
    "    while j< rvalue:\n",
    "        id = 1001 - i\n",
    "        product_id = random.randint(1, 100)\n",
    "        quantity = random.randint(1, 50)\n",
    "        unit_price = conn_billing.execute(\"SELECT price FROM products WHERE id = ?\", (product_id,)).fetchone()[0]\n",
    "        total_price = unit_price * quantity\n",
    "        billing_items.append((id,billing_id, product_id, quantity, unit_price, total_price))\n",
    "        j+=1\n",
    "        i-=1\n"
   ]
  },
  {
   "cell_type": "code",
   "execution_count": 20,
   "metadata": {},
   "outputs": [],
   "source": [
    "for item in billing_items:\n",
    "    conn_billing.execute(\"INSERT into billing_items (id,billing_id, product_id, quantity, unit_price, total_price) VALUES (?, ?, ?, ?, ?, ?)\", item)\n",
    "\n",
    "conn_billing.commit()\n"
   ]
  },
  {
   "cell_type": "code",
   "execution_count": 21,
   "metadata": {},
   "outputs": [],
   "source": [
    "conn_billing.close()"
   ]
  },
  {
   "cell_type": "code",
   "execution_count": 26,
   "metadata": {},
   "outputs": [],
   "source": [
    "billing = {}\n",
    "billing_items = conn_billing.execute(\"select * from billing_items\").fetchall()"
   ]
  },
  {
   "cell_type": "code",
   "execution_count": 27,
   "metadata": {},
   "outputs": [],
   "source": [
    "for item in billing_items:\n",
    "    value = billing.get(item[1],0)\n",
    "    value += item[5]\n",
    "    billing[item[1]] = value\n"
   ]
  },
  {
   "cell_type": "code",
   "execution_count": 31,
   "metadata": {},
   "outputs": [],
   "source": [
    "from datetime import datetime, timedelta"
   ]
  },
  {
   "cell_type": "code",
   "execution_count": 61,
   "metadata": {},
   "outputs": [
    {
     "name": "stdout",
     "output_type": "stream",
     "text": [
      "(3, 76, datetime.datetime(2023, 3, 24, 0, 0), 12808.94)\n",
      "(4, 12, datetime.datetime(2023, 3, 31, 0, 0), 1702.54)\n",
      "(5, 65, datetime.datetime(2023, 3, 18, 0, 0), 1664.56)\n",
      "(6, 1, datetime.datetime(2023, 7, 2, 0, 0), 7265.860000000001)\n",
      "(7, 19, datetime.datetime(2023, 1, 27, 0, 0), 17431.879999999997)\n",
      "(8, 8, datetime.datetime(2023, 10, 14, 0, 0), 1658.02)\n",
      "(9, 49, datetime.datetime(2023, 4, 15, 0, 0), 5702.04)\n",
      "(10, 100, datetime.datetime(2023, 3, 9, 0, 0), 1041.87)\n",
      "(11, 32, datetime.datetime(2023, 12, 17, 0, 0), 4857.469999999999)\n",
      "(12, 66, datetime.datetime(2023, 4, 21, 0, 0), 2985.02)\n",
      "(13, 39, datetime.datetime(2023, 3, 13, 0, 0), 691.6)\n",
      "(14, 16, datetime.datetime(2023, 4, 5, 0, 0), 771.1200000000001)\n",
      "(15, 89, datetime.datetime(2023, 1, 9, 0, 0), 9077.97)\n",
      "(16, 40, datetime.datetime(2023, 2, 14, 0, 0), 6573.0599999999995)\n",
      "(17, 78, datetime.datetime(2023, 11, 30, 0, 0), 4766.6)\n",
      "(18, 22, datetime.datetime(2023, 2, 14, 0, 0), 22158.21)\n",
      "(19, 95, datetime.datetime(2023, 1, 30, 0, 0), 2180.22)\n",
      "(20, 40, datetime.datetime(2023, 8, 14, 0, 0), 4237.7)\n",
      "(22, 22, datetime.datetime(2023, 6, 12, 0, 0), 9358.979999999998)\n",
      "(23, 89, datetime.datetime(2023, 4, 15, 0, 0), 15007.43)\n",
      "(24, 1, datetime.datetime(2023, 5, 16, 0, 0), 7828.02)\n",
      "(25, 65, datetime.datetime(2023, 12, 24, 0, 0), 741.29)\n",
      "(26, 37, datetime.datetime(2023, 8, 5, 0, 0), 21969.72)\n",
      "(27, 74, datetime.datetime(2023, 5, 10, 0, 0), 22547.58)\n",
      "(29, 91, datetime.datetime(2023, 2, 19, 0, 0), 11769.789999999999)\n",
      "(30, 90, datetime.datetime(2023, 7, 28, 0, 0), 12385.689999999999)\n",
      "(31, 50, datetime.datetime(2023, 7, 4, 0, 0), 6524.56)\n",
      "(32, 54, datetime.datetime(2023, 11, 7, 0, 0), 9878.21)\n",
      "(33, 87, datetime.datetime(2023, 8, 11, 0, 0), 2506.57)\n",
      "(34, 87, datetime.datetime(2023, 8, 6, 0, 0), 9622.529999999999)\n",
      "(35, 71, datetime.datetime(2023, 8, 27, 0, 0), 10823.880000000001)\n",
      "(36, 72, datetime.datetime(2023, 5, 18, 0, 0), 9474.74)\n",
      "(37, 14, datetime.datetime(2023, 4, 9, 0, 0), 335.66)\n",
      "(38, 28, datetime.datetime(2023, 7, 23, 0, 0), 21340.840000000004)\n",
      "(39, 4, datetime.datetime(2023, 10, 11, 0, 0), 18660.01)\n",
      "(40, 96, datetime.datetime(2023, 6, 19, 0, 0), 15085.810000000001)\n",
      "(41, 26, datetime.datetime(2023, 6, 28, 0, 0), 13536.510000000002)\n",
      "(42, 2, datetime.datetime(2023, 3, 5, 0, 0), 30057.179999999997)\n",
      "(43, 84, datetime.datetime(2023, 4, 2, 0, 0), 6063.09)\n",
      "(44, 61, datetime.datetime(2023, 7, 21, 0, 0), 4165.95)\n",
      "(45, 11, datetime.datetime(2023, 9, 7, 0, 0), 12109.300000000003)\n",
      "(46, 82, datetime.datetime(2023, 8, 30, 0, 0), 5759.87)\n",
      "(48, 17, datetime.datetime(2023, 8, 12, 0, 0), 1441.23)\n",
      "(49, 12, datetime.datetime(2023, 10, 19, 0, 0), 5465.76)\n",
      "(50, 81, datetime.datetime(2023, 9, 2, 0, 0), 290.24)\n",
      "(52, 60, datetime.datetime(2023, 7, 24, 0, 0), 20725.609999999997)\n",
      "(53, 81, datetime.datetime(2023, 1, 18, 0, 0), 6243.089999999999)\n",
      "(54, 62, datetime.datetime(2023, 4, 13, 0, 0), 7669.72)\n",
      "(55, 70, datetime.datetime(2023, 9, 19, 0, 0), 15154.640000000001)\n",
      "(56, 94, datetime.datetime(2023, 11, 18, 0, 0), 14670.96)\n",
      "(57, 69, datetime.datetime(2023, 12, 30, 0, 0), 14081.46)\n",
      "(58, 31, datetime.datetime(2023, 1, 17, 0, 0), 262.96999999999997)\n",
      "(59, 51, datetime.datetime(2023, 1, 2, 0, 0), 15504.37)\n",
      "(60, 20, datetime.datetime(2023, 11, 6, 0, 0), 2942.8)\n",
      "(61, 17, datetime.datetime(2023, 5, 20, 0, 0), 1046.3000000000002)\n",
      "(63, 56, datetime.datetime(2023, 7, 16, 0, 0), 2441.14)\n",
      "(64, 74, datetime.datetime(2023, 11, 3, 0, 0), 6209.790000000001)\n",
      "(65, 12, datetime.datetime(2023, 2, 5, 0, 0), 5155.799999999999)\n",
      "(66, 96, datetime.datetime(2023, 9, 28, 0, 0), 14826.58)\n",
      "(67, 27, datetime.datetime(2023, 9, 19, 0, 0), 20496.929999999997)\n",
      "(69, 34, datetime.datetime(2023, 5, 4, 0, 0), 7836.880000000001)\n",
      "(70, 69, datetime.datetime(2023, 9, 16, 0, 0), 14296.950000000003)\n",
      "(71, 57, datetime.datetime(2023, 1, 9, 0, 0), 11333.73)\n",
      "(72, 31, datetime.datetime(2023, 5, 16, 0, 0), 26131.329999999998)\n",
      "(73, 25, datetime.datetime(2023, 5, 7, 0, 0), 6042.139999999999)\n",
      "(74, 20, datetime.datetime(2023, 4, 25, 0, 0), 15744.98)\n",
      "(75, 56, datetime.datetime(2023, 12, 14, 0, 0), 18474.870000000003)\n",
      "(76, 69, datetime.datetime(2023, 11, 18, 0, 0), 3488.32)\n",
      "(77, 11, datetime.datetime(2023, 8, 27, 0, 0), 8668.65)\n",
      "(78, 11, datetime.datetime(2023, 6, 20, 0, 0), 4463.9400000000005)\n",
      "(79, 71, datetime.datetime(2023, 4, 15, 0, 0), 14528.77)\n",
      "(80, 14, datetime.datetime(2023, 9, 16, 0, 0), 8618.510000000002)\n",
      "(81, 14, datetime.datetime(2023, 12, 28, 0, 0), 2568.02)\n",
      "(82, 48, datetime.datetime(2023, 7, 30, 0, 0), 2021.04)\n",
      "(83, 42, datetime.datetime(2023, 7, 3, 0, 0), 13128.139999999998)\n",
      "(84, 43, datetime.datetime(2023, 8, 2, 0, 0), 6971.37)\n",
      "(85, 70, datetime.datetime(2023, 4, 5, 0, 0), 11060.730000000001)\n",
      "(86, 96, datetime.datetime(2023, 1, 7, 0, 0), 4412.45)\n",
      "(87, 96, datetime.datetime(2023, 6, 25, 0, 0), 11812.52)\n",
      "(88, 99, datetime.datetime(2023, 6, 17, 0, 0), 7322.3099999999995)\n",
      "(89, 91, datetime.datetime(2023, 2, 21, 0, 0), 5467.710000000001)\n",
      "(90, 97, datetime.datetime(2023, 4, 6, 0, 0), 18759.460000000003)\n",
      "(91, 54, datetime.datetime(2023, 8, 14, 0, 0), 16792.68)\n",
      "(92, 21, datetime.datetime(2023, 5, 22, 0, 0), 5109.79)\n",
      "(93, 80, datetime.datetime(2023, 11, 7, 0, 0), 19628.19)\n",
      "(94, 10, datetime.datetime(2023, 5, 22, 0, 0), 12597.24)\n",
      "(95, 1, datetime.datetime(2023, 8, 11, 0, 0), 6721.8099999999995)\n",
      "(96, 15, datetime.datetime(2023, 2, 23, 0, 0), 40.38)\n",
      "(97, 83, datetime.datetime(2023, 3, 5, 0, 0), 7573.49)\n",
      "(98, 91, datetime.datetime(2023, 3, 18, 0, 0), 3561.7599999999998)\n",
      "(99, 46, datetime.datetime(2023, 2, 16, 0, 0), 2691.0)\n",
      "(100, 13, datetime.datetime(2023, 12, 15, 0, 0), 932.24)\n",
      "(101, 22, datetime.datetime(2023, 9, 21, 0, 0), 11537.3)\n",
      "(102, 57, datetime.datetime(2023, 2, 3, 0, 0), 10163.75)\n",
      "(103, 26, datetime.datetime(2023, 4, 29, 0, 0), 15822.36)\n",
      "(104, 71, datetime.datetime(2023, 6, 29, 0, 0), 16174.499999999998)\n",
      "(105, 27, datetime.datetime(2023, 1, 8, 0, 0), 9754.009999999998)\n",
      "(107, 54, datetime.datetime(2023, 7, 2, 0, 0), 7074.43)\n",
      "(108, 97, datetime.datetime(2023, 2, 5, 0, 0), 4601.33)\n",
      "(109, 23, datetime.datetime(2023, 1, 8, 0, 0), 12967.24)\n",
      "(110, 83, datetime.datetime(2023, 8, 16, 0, 0), 1022.89)\n",
      "(111, 46, datetime.datetime(2023, 4, 19, 0, 0), 11983.03)\n",
      "(112, 62, datetime.datetime(2023, 7, 9, 0, 0), 8143.47)\n",
      "(113, 49, datetime.datetime(2023, 12, 30, 0, 0), 22687.389999999996)\n",
      "(114, 44, datetime.datetime(2023, 7, 16, 0, 0), 4674.17)\n",
      "(115, 53, datetime.datetime(2023, 2, 5, 0, 0), 13710.8)\n",
      "(116, 3, datetime.datetime(2023, 3, 15, 0, 0), 9010.699999999999)\n",
      "(117, 20, datetime.datetime(2023, 10, 14, 0, 0), 6089.48)\n",
      "(118, 10, datetime.datetime(2023, 4, 18, 0, 0), 9953.3)\n",
      "(119, 70, datetime.datetime(2023, 4, 9, 0, 0), 20039.799999999996)\n",
      "(120, 75, datetime.datetime(2023, 1, 13, 0, 0), 935.56)\n",
      "(121, 42, datetime.datetime(2023, 9, 23, 0, 0), 929.9)\n",
      "(122, 11, datetime.datetime(2023, 2, 13, 0, 0), 1037.0400000000002)\n",
      "(123, 35, datetime.datetime(2023, 8, 28, 0, 0), 15626.110000000002)\n",
      "(124, 36, datetime.datetime(2023, 12, 22, 0, 0), 12711.019999999999)\n",
      "(125, 60, datetime.datetime(2023, 5, 10, 0, 0), 1006.98)\n",
      "(126, 45, datetime.datetime(2023, 6, 18, 0, 0), 17458.75)\n",
      "(128, 80, datetime.datetime(2023, 11, 11, 0, 0), 4892.22)\n",
      "(129, 80, datetime.datetime(2023, 10, 22, 0, 0), 8579.289999999999)\n",
      "(130, 94, datetime.datetime(2023, 4, 29, 0, 0), 4590.339999999999)\n",
      "(131, 91, datetime.datetime(2023, 3, 17, 0, 0), 13509.769999999999)\n",
      "(132, 41, datetime.datetime(2023, 11, 21, 0, 0), 13680.34)\n",
      "(133, 96, datetime.datetime(2023, 10, 19, 0, 0), 8005.3)\n",
      "(134, 20, datetime.datetime(2023, 1, 15, 0, 0), 14384.869999999997)\n",
      "(135, 25, datetime.datetime(2023, 1, 10, 0, 0), 4038.16)\n",
      "(136, 98, datetime.datetime(2023, 2, 14, 0, 0), 13919.73)\n",
      "(137, 5, datetime.datetime(2023, 12, 31, 0, 0), 5190.33)\n",
      "(138, 61, datetime.datetime(2023, 7, 4, 0, 0), 5630.04)\n",
      "(139, 29, datetime.datetime(2023, 7, 21, 0, 0), 7227.849999999999)\n",
      "(140, 20, datetime.datetime(2023, 7, 19, 0, 0), 11209.780000000002)\n"
     ]
    }
   ],
   "source": [
    "for i in billing.items():\n",
    "    print((i[0], random.randint(1,100), datetime(2023,1,1) + timedelta(days = random.randint(0,365)), i[1]))\n",
    "    conn_billing.execute(\"INSERT into Billings (id,customer_id, date, total_amount) VALUES (?, ?, ?, ?)\", (i[0], random.randint(1,100), datetime(2023,1,1) + timedelta(days = random.randint(0,365)), i[1]))\n",
    "    conn_billing.commit()\n",
    "    #print(i)"
   ]
  },
  {
   "cell_type": "code",
   "execution_count": 62,
   "metadata": {},
   "outputs": [],
   "source": [
    "conn_billing.close()"
   ]
  },
  {
   "cell_type": "code",
   "execution_count": null,
   "metadata": {},
   "outputs": [],
   "source": []
  }
 ],
 "metadata": {
  "kernelspec": {
   "display_name": "Python 3",
   "language": "python",
   "name": "python3"
  },
  "language_info": {
   "codemirror_mode": {
    "name": "ipython",
    "version": 3
   },
   "file_extension": ".py",
   "mimetype": "text/x-python",
   "name": "python",
   "nbconvert_exporter": "python",
   "pygments_lexer": "ipython3",
   "version": "3.11.7"
  }
 },
 "nbformat": 4,
 "nbformat_minor": 2
}
